import yfinance as yf
import pandas as pd
import numpy as np
from textblob import TextBlob
import matplotlib.pyplot as plt
import seaborn as sns

# Sentiment Calculation Function
def calculate_sentiment(text):
    return TextBlob(text).sentiment.polarity

def fetch_stock_data(tickers, start_date, end_date, headline_samples):
    all_data = []
    
    for ticker in tickers:
        print(f"Processing {ticker}...")
        stock_data = yf.download(ticker, start=start_date, end=end_date)
        stock_data['Ticker'] = ticker
        
        # Random Headlines and Sentiment
        stock_data['Headline'] = np.random.choice(
            [f"{ticker} {headline}" for headline in headline_samples], size=len(stock_data)
        )
        stock_data['Sentiment'] = stock_data['Headline'].apply(calculate_sentiment)
        stock_data['Daily Returns'] = stock_data['Close'].pct_change()
        
        all_data.append(stock_data)
    
    combined_df = pd.concat(all_data)
    combined_df.to_csv("combined_stock_sentiment.csv")
    return combined_df

def correlation_analysis(data):
    correlations = data.groupby('Ticker')[['Sentiment', 'Daily Returns']].corr().iloc[0::2, -1].reset_index()
    correlations.columns = ['Ticker', 'Correlation']
    return correlations

def main():
    tickers = ['AAPL', 'MSFT', 'GOOG', 'AMZN', 'NVDA']
    start_date = '2020-01-01'
    end_date = '2023-01-01'
    headline_samples = [
        "hits record high", "concerns over future growth",
        "to unveil new product", "reports strong earnings",
        "facing regulatory scrutiny"
    ]

    # Fetch Data
    combined_data = fetch_stock_data(tickers, start_date, end_date, headline_samples)
    print("Data Sample:")
    print(combined_data.head())

    # Correlation Analysis
    correlations = correlation_analysis(combined_data)
    print("\nCorrelation Between Sentiment and Daily Returns:")
    print(correlations)

    # Visualization
    plt.figure(figsize=(8, 6))
    sns.heatmap(correlations.pivot("Ticker", "Correlation", "Correlation"), annot=True, cmap="coolwarm", fmt=".2f")
    plt.title("Correlation Heatmap")
    plt.show()

if __name__ == "__main__":
    main()
